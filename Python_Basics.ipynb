{
 "cells": [
  {
   "cell_type": "markdown",
   "id": "60aa8031",
   "metadata": {},
   "source": [
    "# PYTHON BASICS"
   ]
  },
  {
   "cell_type": "code",
   "execution_count": 1,
   "id": "e2b5f3dc",
   "metadata": {},
   "outputs": [
    {
     "name": "stdout",
     "output_type": "stream",
     "text": [
      "Hello world\n"
     ]
    }
   ],
   "source": [
    "print(\"Hello world\")"
   ]
  },
  {
   "cell_type": "code",
   "execution_count": 2,
   "id": "53e98cd0",
   "metadata": {},
   "outputs": [
    {
     "name": "stdout",
     "output_type": "stream",
     "text": [
      "   /|\n",
      "  / |\n",
      " /  |\n",
      "/___|\n"
     ]
    }
   ],
   "source": [
    "print(\"   /|\")\n",
    "print(\"  / |\")\n",
    "print(\" /  |\")\n",
    "print(\"/___|\")"
   ]
  },
  {
   "cell_type": "markdown",
   "id": "67ff0d43",
   "metadata": {},
   "source": [
    "---\n",
    "# variables & data types\n",
    "\n"
   ]
  },
  {
   "cell_type": "code",
   "execution_count": 6,
   "id": "e793b9a5",
   "metadata": {},
   "outputs": [
    {
     "name": "stdout",
     "output_type": "stream",
     "text": [
      "There ones was a man named John,\n",
      "He was 70 years old.\n",
      "He really liked the name John,\n",
      "But he didnot like the age 70\n"
     ]
    }
   ],
   "source": [
    "print(\"There ones was a man named John,\")\n",
    "print(\"He was 70 years old.\")\n",
    "print(\"He really liked the name John,\")\n",
    "print(\"But he didnot like the age 70\")"
   ]
  },
  {
   "cell_type": "code",
   "execution_count": 7,
   "id": "c0558aaa",
   "metadata": {},
   "outputs": [
    {
     "name": "stdout",
     "output_type": "stream",
     "text": [
      "There ones was a man named Bob,\n",
      "He was 35 years old.\n",
      "He really liked the name Bob,\n",
      "But he didnot like the age 35.\n"
     ]
    }
   ],
   "source": [
    "character_name = \"Bob\"\n",
    "character_age = \"35\"\n",
    "\n",
    "print(\"There ones was a man named \" + character_name + \",\")\n",
    "print(\"He was \" + character_age + \" years old.\")\n",
    "print(\"He really liked the name \" + character_name + \",\")\n",
    "print(\"But he didnot like the age \" + character_age + \".\")"
   ]
  },
  {
   "cell_type": "code",
   "execution_count": 8,
   "id": "64649eaa",
   "metadata": {},
   "outputs": [
    {
     "name": "stdout",
     "output_type": "stream",
     "text": [
      "There ones was a man named Bob,\n",
      "He was 35 years old.\n",
      "He really liked the name Tom,\n",
      "But he didnot like the age 35.\n"
     ]
    }
   ],
   "source": [
    "character_name = \"Bob\"\n",
    "character_age = \"35\"\n",
    "\n",
    "print(\"There ones was a man named \" + character_name + \",\")\n",
    "print(\"He was \" + character_age + \" years old.\")\n",
    "\n",
    "# variables can be renewed on the road.\n",
    "\n",
    "character_name = \"Tom\"\n",
    "\n",
    "print(\"He really liked the name \" + character_name + \",\")\n",
    "print(\"But he didnot like the age \" + character_age + \".\")"
   ]
  },
  {
   "cell_type": "code",
   "execution_count": 10,
   "id": "dc67bc1a",
   "metadata": {},
   "outputs": [
    {
     "name": "stdout",
     "output_type": "stream",
     "text": [
      "80.6789\n"
     ]
    }
   ],
   "source": [
    "a = 35 #integer\n",
    "b = 45.6789\n",
    "\n",
    "c = a+b\n",
    "\n",
    "print(c)"
   ]
  },
  {
   "cell_type": "markdown",
   "id": "adcccbfe",
   "metadata": {},
   "source": [
    "---\n",
    "# working with strings"
   ]
  },
  {
   "cell_type": "code",
   "execution_count": 19,
   "id": "ea066e0d",
   "metadata": {},
   "outputs": [
    {
     "name": "stdout",
     "output_type": "stream",
     "text": [
      "Giraffe Academy\n",
      "Giraffe\n",
      "Academy\n",
      "Giraffe\\Academy\n",
      "Giraffe\"Academy\n",
      "Giraffe Academy\n",
      "Giraffe Academy is cool\n",
      "GIRAFFE ACADEMY\n",
      "False\n",
      "True\n",
      "15\n",
      "G\n",
      "f\n",
      "ff\n",
      "Gira\n",
      "ffe Academy\n",
      "4\n",
      "8\n",
      "Elephant Academy\n"
     ]
    }
   ],
   "source": [
    "print(\"Giraffe Academy\")\n",
    "print(\"Giraffe\\nAcademy\") # New line\n",
    "print(\"Giraffe\\Academy\")  # Backslah\n",
    "print(\"Giraffe\\\"Academy\") # Adding qoutation mark to a string\n",
    "\n",
    "phrase = \"Giraffe Academy\"\n",
    "print(phrase)\n",
    "print(phrase + \" is cool\") # concatanation\n",
    "\n",
    "print(phrase.upper()) # Using functions\n",
    "print(phrase.isupper())\n",
    "print(phrase.upper().isupper())\n",
    "print(len(phrase))\n",
    "\n",
    "print(phrase[0]) # Using index\n",
    "print(phrase[4])\n",
    "print(phrase[4:6]) # 4th char. included 6 is not\n",
    "print(phrase[:4]) # First 4 char.\n",
    "print(phrase[4:]) # Last 11 char.\n",
    "print(phrase.index(\"f\")) # Brings index of frist \"f\"\n",
    "print(phrase.index(\"Aca\")) # Brings index of start of \"Aca\n",
    "print(phrase.replace(\"Giraffe\", \"Elephant\"))"
   ]
  },
  {
   "cell_type": "markdown",
   "id": "8d13c081",
   "metadata": {},
   "source": [
    "---\n",
    "# working with numbers"
   ]
  },
  {
   "cell_type": "code",
   "execution_count": 27,
   "id": "9be95da6",
   "metadata": {},
   "outputs": [
    {
     "name": "stdout",
     "output_type": "stream",
     "text": [
      "2\n",
      "2.78484\n",
      "-2.78484\n",
      "9.65\n",
      "54.85\n",
      "86.85000000000001\n",
      "1\n",
      "-5\n",
      "-5\n",
      "5\n",
      "32.0\n",
      "5\n",
      "2\n",
      "2\n",
      "3\n",
      "2\n",
      "3\n"
     ]
    }
   ],
   "source": [
    "print(2)\n",
    "print(2.78484)\n",
    "print(-2.78484)\n",
    "print(4 + 5.65)\n",
    "print(4 + 5.65 * 9)\n",
    "print((4 + 5.65) * 9)\n",
    "print(10 % 3) # Reminder\n",
    "\n",
    "num = -5\n",
    "print(num)\n",
    "print(str(num)) # Converting the type\n",
    "print(abs(num))\n",
    "print(pow(2,5))\n",
    "print(max(2,5))\n",
    "print(min(2,5))\n",
    "print(round(2.4))\n",
    "print(round(2.6))\n",
    "\n",
    "from math import *\n",
    "\n",
    "print(floor(2.5))\n",
    "print(ceil(2.5))\n",
    "print(sqrt(81))"
   ]
  },
  {
   "cell_type": "markdown",
   "id": "e2c77035",
   "metadata": {},
   "source": [
    "---\n",
    "# getting input from user"
   ]
  },
  {
   "cell_type": "code",
   "execution_count": 28,
   "id": "4cb34a1c",
   "metadata": {},
   "outputs": [
    {
     "name": "stdout",
     "output_type": "stream",
     "text": [
      "Enter your name: Mike\n",
      "Hello Mike!\n"
     ]
    }
   ],
   "source": [
    "name = input(\"Enter your name: \")\n",
    "print(\"Hello \" + name + \"!\")"
   ]
  },
  {
   "cell_type": "code",
   "execution_count": 30,
   "id": "15cdffa0",
   "metadata": {},
   "outputs": [
    {
     "name": "stdout",
     "output_type": "stream",
     "text": [
      "Enter your name: Mike\n",
      "Enter your age: 29\n",
      "Hello Mike! Your age is 29.\n"
     ]
    }
   ],
   "source": [
    "name = input(\"Enter your name: \")\n",
    "age = input(\"Enter your age: \")\n",
    "print(\"Hello \" + name + \"! \" + \"Your age is \" + age + \".\")"
   ]
  },
  {
   "cell_type": "markdown",
   "id": "3473621a",
   "metadata": {},
   "source": [
    "---\n",
    "# building a basic calculator"
   ]
  },
  {
   "cell_type": "code",
   "execution_count": 31,
   "id": "29a564e8",
   "metadata": {},
   "outputs": [
    {
     "name": "stdout",
     "output_type": "stream",
     "text": [
      "Enter first number: 3\n",
      "Enter second number: 4\n",
      "34\n"
     ]
    }
   ],
   "source": [
    "num1 = input(\"Enter first number: \")\n",
    "num2 = input(\"Enter second number: \")\n",
    "result = num1 + num2\n",
    "print(result)"
   ]
  },
  {
   "cell_type": "code",
   "execution_count": 32,
   "id": "5424ca6d",
   "metadata": {},
   "outputs": [
    {
     "name": "stdout",
     "output_type": "stream",
     "text": [
      "Enter first number: 3\n",
      "Enter second number: 4\n",
      "7\n"
     ]
    }
   ],
   "source": [
    "# We need to convert str to int.\n",
    "\n",
    "num1 = input(\"Enter first number: \")\n",
    "num2 = input(\"Enter second number: \")\n",
    "result = int(num1) + int(num2)\n",
    "print(result)"
   ]
  },
  {
   "cell_type": "code",
   "execution_count": 33,
   "id": "8f9d933f",
   "metadata": {},
   "outputs": [
    {
     "name": "stdout",
     "output_type": "stream",
     "text": [
      "Enter first number: 3.5\n",
      "Enter second number: 5\n",
      "8.5\n"
     ]
    }
   ],
   "source": [
    "# Float will be better.\n",
    "\n",
    "num1 = input(\"Enter first number: \")\n",
    "num2 = input(\"Enter second number: \")\n",
    "result = float(num1) + float(num2)\n",
    "print(result)"
   ]
  },
  {
   "cell_type": "markdown",
   "id": "0766051b",
   "metadata": {},
   "source": [
    "---\n",
    "# mad libs game "
   ]
  },
  {
   "cell_type": "code",
   "execution_count": 36,
   "id": "1b77116b",
   "metadata": {},
   "outputs": [
    {
     "name": "stdout",
     "output_type": "stream",
     "text": [
      "Enter a color: Yellow\n",
      "Enter a plural noun: Tables\n",
      "Enter a celebrity: Liv Tylor\n",
      "Roses are Yellow\n",
      "Tables are blue\n",
      "I love Liv Tylor\n"
     ]
    }
   ],
   "source": [
    "color = input(\"Enter a color: \")\n",
    "plural_noun = input(\"Enter a plural noun: \")\n",
    "celebrity = input(\"Enter a celebrity: \")\n",
    "\n",
    "print(\"Roses are \" + color)\n",
    "print(plural_noun + \" are blue\")\n",
    "print(\"I love \" + celebrity)"
   ]
  },
  {
   "cell_type": "markdown",
   "id": "c063c5f0",
   "metadata": {},
   "source": [
    "---\n",
    "# list\n"
   ]
  },
  {
   "cell_type": "code",
   "execution_count": 40,
   "id": "421ff975",
   "metadata": {},
   "outputs": [
    {
     "name": "stdout",
     "output_type": "stream",
     "text": [
      "['Kevin', 'Karen', 'Jim']\n",
      "Kevin\n",
      "Jim\n",
      "Bob\n"
     ]
    }
   ],
   "source": [
    "friends = [\"Kevin\", \"Karen\", \"Jim\"]\n",
    "print(friends)\n",
    "print(friends[0])\n",
    "print(friends[-1]) # From back\n",
    "\n",
    "friends[1] = \"Bob\"\n",
    "print(friends[1])"
   ]
  },
  {
   "cell_type": "code",
   "execution_count": 41,
   "id": "cc6dcd5b",
   "metadata": {},
   "outputs": [
    {
     "name": "stdout",
     "output_type": "stream",
     "text": [
      "['Kevin', 'Bob', 'Jim', 2, 5, 7, 9]\n"
     ]
    }
   ],
   "source": [
    "lucky_numbers = [2, 5, 7, 9]\n",
    "friends.extend(lucky_numbers)\n",
    "print(friends)"
   ]
  },
  {
   "cell_type": "code",
   "execution_count": 42,
   "id": "9cc93370",
   "metadata": {},
   "outputs": [
    {
     "name": "stdout",
     "output_type": "stream",
     "text": [
      "['Kevin', 'Bob', 'Jim', 2, 5, 7, 9, 'Karen']\n"
     ]
    }
   ],
   "source": [
    "friends.append(\"Karen\")\n",
    "print(friends)"
   ]
  },
  {
   "cell_type": "code",
   "execution_count": 43,
   "id": "0557e725",
   "metadata": {},
   "outputs": [
    {
     "name": "stdout",
     "output_type": "stream",
     "text": [
      "['Kevin', 'Bob', 'Jim', 2, 'Jack', 5, 7, 9, 'Karen']\n"
     ]
    }
   ],
   "source": [
    "friends.insert(4,\"Jack\")\n",
    "print(friends)"
   ]
  },
  {
   "cell_type": "code",
   "execution_count": 44,
   "id": "c0951784",
   "metadata": {},
   "outputs": [
    {
     "name": "stdout",
     "output_type": "stream",
     "text": [
      "['Bob', 'Jim', 2, 'Jack', 5, 7, 9, 'Karen']\n"
     ]
    }
   ],
   "source": [
    "friends.remove(\"Kevin\")\n",
    "print(friends)"
   ]
  },
  {
   "cell_type": "code",
   "execution_count": 45,
   "id": "1287074d",
   "metadata": {},
   "outputs": [
    {
     "name": "stdout",
     "output_type": "stream",
     "text": [
      "3\n"
     ]
    }
   ],
   "source": [
    "print(friends.index(\"Jack\"))"
   ]
  },
  {
   "cell_type": "code",
   "execution_count": 47,
   "id": "a13e8253",
   "metadata": {},
   "outputs": [
    {
     "name": "stdout",
     "output_type": "stream",
     "text": [
      "['Karen', 9, 7, 5, 'Jack', 2, 'Jim', 'Bob']\n"
     ]
    }
   ],
   "source": [
    "friends.reverse()\n",
    "print(friends)"
   ]
  },
  {
   "cell_type": "markdown",
   "id": "31662cdb",
   "metadata": {},
   "source": [
    "---\n",
    "# Tuples"
   ]
  },
  {
   "cell_type": "code",
   "execution_count": 48,
   "id": "5099fefc",
   "metadata": {},
   "outputs": [
    {
     "name": "stdout",
     "output_type": "stream",
     "text": [
      "(5, 6)\n"
     ]
    }
   ],
   "source": [
    "# imutable\n",
    "\n",
    "coordinates = (5, 6)\n",
    "print(coordinates)"
   ]
  },
  {
   "cell_type": "markdown",
   "id": "45cb82d9",
   "metadata": {},
   "source": [
    "---\n",
    "# Functions\n"
   ]
  },
  {
   "cell_type": "code",
   "execution_count": 52,
   "id": "0f216631",
   "metadata": {},
   "outputs": [
    {
     "name": "stdout",
     "output_type": "stream",
     "text": [
      "Hello user\n"
     ]
    }
   ],
   "source": [
    "def say_hi () :\n",
    "    print(\"Hello user\")\n",
    "    \n",
    "say_hi()\n",
    "\n",
    "# All lower character names for functions better."
   ]
  },
  {
   "cell_type": "code",
   "execution_count": 53,
   "id": "7720ab0b",
   "metadata": {},
   "outputs": [
    {
     "name": "stdout",
     "output_type": "stream",
     "text": [
      "Hello Mike!\n",
      "Hello Tom!\n"
     ]
    }
   ],
   "source": [
    "def say_hi (name) :\n",
    "    print(\"Hello \" + name + \"!\")\n",
    "    \n",
    "say_hi(\"Mike\")\n",
    "say_hi(\"Tom\")"
   ]
  },
  {
   "cell_type": "code",
   "execution_count": 56,
   "id": "d68d7d7b",
   "metadata": {},
   "outputs": [
    {
     "name": "stdout",
     "output_type": "stream",
     "text": [
      "Hello Mike you are 35!\n",
      "Hello Tom you are 50!\n"
     ]
    }
   ],
   "source": [
    "def say_hi (name, age) :\n",
    "    print(\"Hello \" + name + \" you are \" + age + \"!\")\n",
    "    \n",
    "say_hi(\"Mike\", \"35\" )\n",
    "say_hi(\"Tom\", \"50\")"
   ]
  },
  {
   "cell_type": "markdown",
   "id": "b4e987c9",
   "metadata": {},
   "source": [
    "---\n",
    "# return statement"
   ]
  },
  {
   "cell_type": "code",
   "execution_count": 59,
   "id": "700f9436",
   "metadata": {},
   "outputs": [
    {
     "data": {
      "text/plain": [
       "27"
      ]
     },
     "execution_count": 59,
     "metadata": {},
     "output_type": "execute_result"
    }
   ],
   "source": [
    "# Sometimes we need a function to return some information to us\n",
    "\n",
    "def cube(num) :\n",
    "    return num*num*num\n",
    "cube(3)\n"
   ]
  },
  {
   "cell_type": "markdown",
   "id": "72ad7326",
   "metadata": {},
   "source": [
    "---\n",
    "# if statements\n"
   ]
  },
  {
   "cell_type": "code",
   "execution_count": 64,
   "id": "619ea188",
   "metadata": {},
   "outputs": [
    {
     "name": "stdout",
     "output_type": "stream",
     "text": [
      "You are a male.\n"
     ]
    }
   ],
   "source": [
    "# Creating a boolean variable\n",
    "\n",
    "is_male = True\n",
    "\n",
    "if is_male :\n",
    "    print(\"You are a male.\")\n"
   ]
  },
  {
   "cell_type": "code",
   "execution_count": 65,
   "id": "6cae6dc8",
   "metadata": {},
   "outputs": [
    {
     "name": "stdout",
     "output_type": "stream",
     "text": [
      "You are not a male.\n"
     ]
    }
   ],
   "source": [
    "is_male = False\n",
    "\n",
    "if is_male :\n",
    "    print(\"You are a male.\")\n",
    "else :\n",
    "    print(\"You are not a male.\")"
   ]
  },
  {
   "cell_type": "code",
   "execution_count": 67,
   "id": "d0383679",
   "metadata": {},
   "outputs": [
    {
     "name": "stdout",
     "output_type": "stream",
     "text": [
      "You are a male or tall or both.\n"
     ]
    }
   ],
   "source": [
    "is_male = True\n",
    "is_tall = True\n",
    "\n",
    "if is_male or is_tall:\n",
    "    print(\"You are a male or tall or both.\")\n",
    "else :\n",
    "    print(\"You neither a male nor tall.\")"
   ]
  },
  {
   "cell_type": "code",
   "execution_count": 68,
   "id": "4b963f73",
   "metadata": {},
   "outputs": [
    {
     "name": "stdout",
     "output_type": "stream",
     "text": [
      "You are a male or tall or both.\n"
     ]
    }
   ],
   "source": [
    "is_male = False\n",
    "is_tall = True\n",
    "\n",
    "if is_male or is_tall:\n",
    "    print(\"You are a male or tall or both.\")\n",
    "else :\n",
    "    print(\"You neither a male nor tall.\")"
   ]
  },
  {
   "cell_type": "code",
   "execution_count": 69,
   "id": "d7b01012",
   "metadata": {},
   "outputs": [
    {
     "name": "stdout",
     "output_type": "stream",
     "text": [
      "You neither a male nor tall.\n"
     ]
    }
   ],
   "source": [
    "is_male = False\n",
    "is_tall = False\n",
    "\n",
    "if is_male or is_tall:\n",
    "    print(\"You are a male or tall or both.\")\n",
    "else :\n",
    "    print(\"You neither a male nor tall.\")"
   ]
  },
  {
   "cell_type": "code",
   "execution_count": 70,
   "id": "8f9feae0",
   "metadata": {},
   "outputs": [
    {
     "name": "stdout",
     "output_type": "stream",
     "text": [
      "You are a tall male.\n"
     ]
    }
   ],
   "source": [
    "is_male = True\n",
    "is_tall = True\n",
    "\n",
    "if is_male and is_tall:\n",
    "    print(\"You are a tall male.\")\n",
    "else :\n",
    "    print(\"You either not male nor tall or both.\")"
   ]
  },
  {
   "cell_type": "code",
   "execution_count": 72,
   "id": "b07a9aaa",
   "metadata": {},
   "outputs": [
    {
     "name": "stdout",
     "output_type": "stream",
     "text": [
      "You either not male nor tall or both.\n"
     ]
    }
   ],
   "source": [
    "is_male = False\n",
    "is_tall = True\n",
    "\n",
    "if is_male and is_tall:\n",
    "    print(\"You are a tall male.\")\n",
    "else :\n",
    "    print(\"You either not male nor tall or both.\")"
   ]
  },
  {
   "cell_type": "code",
   "execution_count": 73,
   "id": "bee9a8bd",
   "metadata": {},
   "outputs": [
    {
     "name": "stdout",
     "output_type": "stream",
     "text": [
      "You either not male nor tall or both.\n"
     ]
    }
   ],
   "source": [
    "is_male = False\n",
    "is_tall = False\n",
    "\n",
    "if is_male and is_tall:\n",
    "    print(\"You are a tall male.\")\n",
    "else :\n",
    "    print(\"You either not male nor tall or both.\")"
   ]
  },
  {
   "cell_type": "code",
   "execution_count": 78,
   "id": "c5c614d9",
   "metadata": {},
   "outputs": [
    {
     "name": "stdout",
     "output_type": "stream",
     "text": [
      "You are a short male.\n"
     ]
    }
   ],
   "source": [
    "is_male = True\n",
    "is_tall = False\n",
    "\n",
    "if is_male and is_tall:\n",
    "    print(\"You are a tall male.\")\n",
    "elif is_male and not is_tall:\n",
    "    print(\"You are a short male.\")\n",
    "elif not is_male and is_tall:\n",
    "    print(\"You are a short male.\")\n",
    "else :\n",
    "    print(\"You either not male nor tall or both.\")"
   ]
  },
  {
   "cell_type": "code",
   "execution_count": 80,
   "id": "c03afc56",
   "metadata": {},
   "outputs": [
    {
     "name": "stdout",
     "output_type": "stream",
     "text": [
      "You are not a male but are tall.\n"
     ]
    }
   ],
   "source": [
    "is_male = False\n",
    "is_tall = True\n",
    "\n",
    "if is_male and is_tall:\n",
    "    print(\"You are a tall male.\")\n",
    "elif is_male and not is_tall:\n",
    "    print(\"You are a short male.\")\n",
    "elif not is_male and is_tall:\n",
    "    print(\"You are not a male but are tall.\")\n",
    "else :\n",
    "    print(\"You either not a male nor tall or both.\")"
   ]
  },
  {
   "cell_type": "markdown",
   "id": "2038f4e4",
   "metadata": {},
   "source": [
    "---\n",
    "\n",
    "# if statements & comparisons"
   ]
  },
  {
   "cell_type": "code",
   "execution_count": 81,
   "id": "d68d5410",
   "metadata": {},
   "outputs": [
    {
     "name": "stdout",
     "output_type": "stream",
     "text": [
      "9\n"
     ]
    }
   ],
   "source": [
    "# Finding max number\n",
    "\n",
    "def max_num(n1, n2, n3):\n",
    "    if n1 >= n2 and n1 >= n3:\n",
    "        return n1\n",
    "    elif n2 >= n1 and n2 >= n3:\n",
    "        return n2\n",
    "    else:\n",
    "        return n3\n",
    "    \n",
    "print(max_num(3,5,9))"
   ]
  },
  {
   "cell_type": "markdown",
   "id": "5e98c7cf",
   "metadata": {},
   "source": [
    "---\n",
    "\n",
    "# building a better calculator"
   ]
  },
  {
   "cell_type": "code",
   "execution_count": 82,
   "id": "12524764",
   "metadata": {},
   "outputs": [
    {
     "name": "stdout",
     "output_type": "stream",
     "text": [
      "Enter first number: 8\n",
      "Enter operator: *\n",
      "Enter second number: 9\n",
      "72.0\n"
     ]
    }
   ],
   "source": [
    "num1 = float(input(\"Enter first number: \"))\n",
    "op = input(\"Enter operator: \")\n",
    "num2 = float(input(\"Enter second number: \"))\n",
    "\n",
    "if op == \"+\":\n",
    "    print(num1+num2)\n",
    "elif op == \"-\":\n",
    "    print(num1-num2)\n",
    "elif op == \"/\":\n",
    "    print(num1/num2)\n",
    "elif op == \"*\":\n",
    "    print(num1*num2)\n",
    "else:\n",
    "    print(\"Invalid operator\")"
   ]
  },
  {
   "cell_type": "markdown",
   "id": "eb6cb82d",
   "metadata": {},
   "source": [
    "---\n",
    "\n",
    "# dictionaries"
   ]
  },
  {
   "cell_type": "code",
   "execution_count": 85,
   "id": "c30ac4fe",
   "metadata": {},
   "outputs": [
    {
     "name": "stdout",
     "output_type": "stream",
     "text": [
      "January\n",
      "February\n"
     ]
    }
   ],
   "source": [
    "month_conversion = {\"Jan\" : \"January\", \"Feb\" : \"February\", \"Mar\" : \"March\"}\n",
    "\n",
    "print(month_conversion[\"Jan\"])\n",
    "print(month_conversion.get(\"Feb\"))"
   ]
  },
  {
   "cell_type": "markdown",
   "id": "bd3ab487",
   "metadata": {},
   "source": [
    "---\n",
    "\n",
    "# while loops"
   ]
  },
  {
   "cell_type": "code",
   "execution_count": 1,
   "id": "1f3b68ea",
   "metadata": {
    "pycharm": {
     "is_executing": true
    }
   },
   "outputs": [
    {
     "name": "stdout",
     "output_type": "stream",
     "text": [
      "1\n",
      "2\n",
      "3\n",
      "4\n",
      "5\n",
      "6\n",
      "7\n",
      "8\n",
      "9\n",
      "10\n",
      "Done with loop.\n"
     ]
    }
   ],
   "source": [
    "i = 1\n",
    "\n",
    "while i <= 10:\n",
    "    print(i)\n",
    "    i = i + 1\n",
    "    \n",
    "print(\"Done with loop.\")"
   ]
  },
  {
   "cell_type": "markdown",
   "id": "44ed44b1",
   "metadata": {},
   "source": [
    "---\n",
    "# building a guessing game"
   ]
  },
  {
   "cell_type": "code",
   "execution_count": 2,
   "id": "5207a73c",
   "metadata": {},
   "outputs": [
    {
     "name": "stdout",
     "output_type": "stream",
     "text": [
      "Enter your guess: panda\n",
      "Enter your guess: bear\n",
      "Enter your guess: Giraffe\n",
      "you win!!!\n"
     ]
    }
   ],
   "source": [
    "secret_word = \"Giraffe\"\n",
    "guess = \"\"\n",
    "\n",
    "while secret_word != guess :\n",
    "    guess = input(\"Enter your guess: \")\n",
    "    \n",
    "print(\"you win!!!\")"
   ]
  },
  {
   "cell_type": "code",
   "execution_count": 5,
   "id": "6acfffbd",
   "metadata": {},
   "outputs": [
    {
     "name": "stdout",
     "output_type": "stream",
     "text": [
      "Enter your guess: bear\n",
      "Enter your guess: panda\n",
      "Enter your guess: yath\n",
      "you lose!!!\n"
     ]
    }
   ],
   "source": [
    "#Developing game, adding guess limitation\n",
    "\n",
    "secret_word = \"Giraffe\"\n",
    "guess = \"\"\n",
    "guess_count = 0\n",
    "guess_limit = 3\n",
    "out_of_guesses = False\n",
    "\n",
    "while secret_word != guess and not (out_of_guesses) :\n",
    "    \n",
    "    if guess_count < guess_limit :\n",
    "        guess = input(\"Enter your guess: \")\n",
    "        guess_count = guess_count + 1\n",
    "    else:\n",
    "        out_of_guesses = True\n",
    "    \n",
    "if out_of_guesses :\n",
    "    print(\"you lose!!!\")\n",
    "else:\n",
    "    print(\"you win!!!\")"
   ]
  },
  {
   "cell_type": "markdown",
   "id": "8c9519a9",
   "metadata": {},
   "source": [
    "---\n",
    "\n",
    "# for loop"
   ]
  },
  {
   "cell_type": "code",
   "execution_count": 6,
   "id": "2a09c35e",
   "metadata": {},
   "outputs": [
    {
     "name": "stdout",
     "output_type": "stream",
     "text": [
      "G\n",
      "i\n",
      "r\n",
      "a\n",
      "f\n",
      "f\n",
      "e\n",
      " \n",
      "A\n",
      "c\n",
      "a\n",
      "d\n",
      "e\n",
      "m\n",
      "y\n"
     ]
    }
   ],
   "source": [
    "for letter in \"Giraffe Academy\":\n",
    "    print(letter)"
   ]
  },
  {
   "cell_type": "code",
   "execution_count": 7,
   "id": "f6c17e41",
   "metadata": {},
   "outputs": [
    {
     "name": "stdout",
     "output_type": "stream",
     "text": [
      "0\n",
      "1\n",
      "2\n",
      "3\n",
      "4\n",
      "5\n",
      "6\n",
      "7\n",
      "8\n",
      "9\n"
     ]
    }
   ],
   "source": [
    "for i in range(10):\n",
    "    print(i)"
   ]
  },
  {
   "cell_type": "code",
   "execution_count": 8,
   "id": "be0df267",
   "metadata": {},
   "outputs": [
    {
     "name": "stdout",
     "output_type": "stream",
     "text": [
      "7\n",
      "8\n",
      "9\n"
     ]
    }
   ],
   "source": [
    "for i in range(7, 10):\n",
    "    print(i)"
   ]
  },
  {
   "cell_type": "markdown",
   "id": "3d0f8d08",
   "metadata": {},
   "source": [
    "---\n",
    "# Exponent function"
   ]
  },
  {
   "cell_type": "code",
   "execution_count": 9,
   "id": "2f9661f8",
   "metadata": {},
   "outputs": [
    {
     "name": "stdout",
     "output_type": "stream",
     "text": [
      "8\n"
     ]
    }
   ],
   "source": [
    "print(2**3)"
   ]
  },
  {
   "cell_type": "code",
   "execution_count": 12,
   "id": "8a88ef28",
   "metadata": {},
   "outputs": [
    {
     "name": "stdout",
     "output_type": "stream",
     "text": [
      "8\n"
     ]
    }
   ],
   "source": [
    "# with using loops\n",
    "\n",
    "def power(base_num, power_num):\n",
    "    result = 1\n",
    "    for i in range(power_num):\n",
    "        result = result*base_num\n",
    "    return result\n",
    "power(2, 3)\n",
    "print(power(2, 3))"
   ]
  },
  {
   "cell_type": "markdown",
   "id": "7bf4eed0",
   "metadata": {},
   "source": [
    "---\n",
    "\n",
    "# 2d lists & nested loops"
   ]
  },
  {
   "cell_type": "code",
   "execution_count": 13,
   "id": "dcb72204",
   "metadata": {},
   "outputs": [
    {
     "name": "stdout",
     "output_type": "stream",
     "text": [
      "1\n"
     ]
    }
   ],
   "source": [
    "num_grid = [\n",
    "    [1, 2, 3],\n",
    "    [4, 5, 6],\n",
    "    [7, 8, 9],\n",
    "    [0]\n",
    "]\n",
    "\n",
    "# Accessing an element\n",
    "print(num_grid[0][0])"
   ]
  },
  {
   "cell_type": "code",
   "execution_count": 14,
   "id": "b7d8c2f8",
   "metadata": {},
   "outputs": [
    {
     "name": "stdout",
     "output_type": "stream",
     "text": [
      "[1, 2, 3]\n",
      "[4, 5, 6]\n",
      "[7, 8, 9]\n",
      "[0]\n"
     ]
    }
   ],
   "source": [
    "for row in num_grid:\n",
    "    print(row)"
   ]
  },
  {
   "cell_type": "code",
   "execution_count": 15,
   "id": "f112fbb8",
   "metadata": {},
   "outputs": [
    {
     "name": "stdout",
     "output_type": "stream",
     "text": [
      "1\n",
      "2\n",
      "3\n",
      "4\n",
      "5\n",
      "6\n",
      "7\n",
      "8\n",
      "9\n",
      "0\n"
     ]
    }
   ],
   "source": [
    "for row in num_grid:\n",
    "    for col in row:\n",
    "        print(col)"
   ]
  },
  {
   "cell_type": "markdown",
   "id": "14d3b8ff",
   "metadata": {},
   "source": [
    "---\n",
    "\n",
    "# building a translator"
   ]
  },
  {
   "cell_type": "code",
   "execution_count": 20,
   "id": "5a369fde",
   "metadata": {},
   "outputs": [
    {
     "name": "stdout",
     "output_type": "stream",
     "text": [
      "bggr\n",
      "Tg bg gr ngt tg bg\n"
     ]
    }
   ],
   "source": [
    "# in giraffe language every vovels are equal to g\n",
    "\n",
    "def translate(phrase):\n",
    "    translation = \"\"\n",
    "    for l in phrase:\n",
    "        if l in \"AEIOUaeiou\":\n",
    "            translation = translation + \"g\"\n",
    "        else:\n",
    "            translation = translation + l\n",
    "       \n",
    "    return translation\n",
    "\n",
    "print(translate(\"bear\"))\n",
    "print(translate(\"To be or not to be\"))"
   ]
  },
  {
   "cell_type": "markdown",
   "id": "09e75edf",
   "metadata": {},
   "source": [
    "---\n",
    "# try except"
   ]
  },
  {
   "cell_type": "code",
   "execution_count": 21,
   "id": "533c2cee",
   "metadata": {},
   "outputs": [
    {
     "name": "stdout",
     "output_type": "stream",
     "text": [
      "Enter a number: dfg\n"
     ]
    },
    {
     "ename": "ValueError",
     "evalue": "invalid literal for int() with base 10: 'dfg'",
     "output_type": "error",
     "traceback": [
      "\u001b[0;31m---------------------------------------------------------------------------\u001b[0m",
      "\u001b[0;31mValueError\u001b[0m                                Traceback (most recent call last)",
      "\u001b[0;32m/var/folders/cb/csvm6tts0wscyx2hf4f4dntc0000gn/T/ipykernel_71658/2109924599.py\u001b[0m in \u001b[0;36m<module>\u001b[0;34m\u001b[0m\n\u001b[0;32m----> 1\u001b[0;31m \u001b[0mnum\u001b[0m \u001b[0;34m=\u001b[0m \u001b[0mint\u001b[0m\u001b[0;34m(\u001b[0m\u001b[0minput\u001b[0m\u001b[0;34m(\u001b[0m\u001b[0;34m\"Enter a number: \"\u001b[0m\u001b[0;34m)\u001b[0m\u001b[0;34m)\u001b[0m\u001b[0;34m\u001b[0m\u001b[0;34m\u001b[0m\u001b[0m\n\u001b[0m\u001b[1;32m      2\u001b[0m \u001b[0mprint\u001b[0m\u001b[0;34m(\u001b[0m\u001b[0mnum\u001b[0m\u001b[0;34m)\u001b[0m\u001b[0;34m\u001b[0m\u001b[0;34m\u001b[0m\u001b[0m\n",
      "\u001b[0;31mValueError\u001b[0m: invalid literal for int() with base 10: 'dfg'"
     ]
    }
   ],
   "source": [
    "num = int(input(\"Enter a number: \"))\n",
    "print(num)"
   ]
  },
  {
   "cell_type": "code",
   "execution_count": 22,
   "id": "fadfef2b",
   "metadata": {},
   "outputs": [
    {
     "name": "stdout",
     "output_type": "stream",
     "text": [
      "Enter a number: jhdkjs\n",
      "invalid input\n"
     ]
    }
   ],
   "source": [
    "# if user enters something other than number\n",
    "try:\n",
    "    num = int(input(\"Enter a number: \"))\n",
    "    print(num)\n",
    "except:\n",
    "    print(\"invalid input\")"
   ]
  },
  {
   "cell_type": "markdown",
   "id": "47648bc3",
   "metadata": {},
   "source": [
    "---\n",
    "# classes & objects"
   ]
  },
  {
   "cell_type": "code",
   "execution_count": 23,
   "id": "35ceb524",
   "metadata": {},
   "outputs": [],
   "source": [
    "# classes are like new data types that python does not include\n",
    "\n",
    "class Student:\n",
    "    \n",
    "    def __init__(self, name, collage, gpa, is_on_probation):\n",
    "        self.name = name\n",
    "        self.collage = collage\n",
    "        self.gpa = gpa\n",
    "        self.is_on_probation = is_on_probation\n",
    "    \n"
   ]
  },
  {
   "cell_type": "code",
   "execution_count": 24,
   "id": "35be1cb6",
   "metadata": {},
   "outputs": [
    {
     "name": "stdout",
     "output_type": "stream",
     "text": [
      "jim\n"
     ]
    }
   ],
   "source": [
    "st1 = Student(\"jim\", \"bussness\", 3.1, False)\n",
    "\n",
    "print(st1.name)"
   ]
  },
  {
   "cell_type": "code",
   "execution_count": 25,
   "id": "2f187629",
   "metadata": {},
   "outputs": [
    {
     "name": "stdout",
     "output_type": "stream",
     "text": [
      "2.5\n"
     ]
    }
   ],
   "source": [
    "st2 = Student(\"jane\", \"art\", 2.5, True)\n",
    "print(st2.gpa)"
   ]
  },
  {
   "cell_type": "markdown",
   "id": "d7ba4192",
   "metadata": {},
   "source": [
    "---\n",
    "# building a multiple choice quiz"
   ]
  },
  {
   "cell_type": "code",
   "execution_count": 34,
   "id": "752140e3",
   "metadata": {},
   "outputs": [
    {
     "name": "stdout",
     "output_type": "stream",
     "text": [
      "What color are apples?\n",
      "(a) red/green\n",
      "(b) purple\n",
      "(c) magenta\n",
      "\n",
      "a\n",
      "What color are bananas?\n",
      "(a) red\n",
      "(b) yellow\n",
      "(c) magenta\n",
      "\n",
      "b\n",
      "What color are strawberries?\n",
      "(a) red\n",
      "(b) yellow\n",
      "(c) blue\n",
      "\n",
      "c\n",
      "You got 3/3 correct\n"
     ]
    }
   ],
   "source": [
    "question_prompts = [\n",
    "    \"What color are apples?\\n(a) red/green\\n(b) purple\\n(c) magenta\\n\\n\",\n",
    "    \"What color are bananas?\\n(a) red\\n(b) yellow\\n(c) magenta\\n\\n\",\n",
    "    \"What color are strawberries?\\n(a) red\\n(b) yellow\\n(c) blue\\n\\n\"\n",
    "]\n",
    "\n",
    "class Question:\n",
    "    \n",
    "    def __init__(self, prompt, answer):\n",
    "        self.prompt = prompt\n",
    "        self.answer = answer\n",
    "        \n",
    "questions = [\n",
    "    Question(question_prompts[0], \"a\"),\n",
    "    Question(question_prompts[1], \"b\"),\n",
    "    Question(question_prompts[2], \"c\"),\n",
    "]\n",
    "\n",
    "def run_test(questions):\n",
    "    score = 0\n",
    "    for question in questions:\n",
    "        answer = input(question.prompt)\n",
    "        if answer == question.answer:\n",
    "            score += 1\n",
    "    print(\"You got \" + str(score) + \"/\" + str(len(questions)) + \" correct\")\n",
    "    \n",
    "\n",
    "run_test(questions)      \n"
   ]
  },
  {
   "cell_type": "markdown",
   "id": "93673888",
   "metadata": {},
   "source": [
    "---\n",
    "# inheritance"
   ]
  },
  {
   "cell_type": "code",
   "execution_count": 35,
   "id": "48747aa4",
   "metadata": {},
   "outputs": [
    {
     "name": "stdout",
     "output_type": "stream",
     "text": [
      "The chef makes chicken.\n",
      "The chef makes salad.\n"
     ]
    }
   ],
   "source": [
    "class Chef:\n",
    "    def make_chicken(self):\n",
    "        print(\"The chef makes chicken.\")\n",
    "        \n",
    "    def make_salad(self):\n",
    "        print(\"The chef makes salad.\")\n",
    "    \n",
    "    def make_special_dish(self):\n",
    "        print(\"The chef makes special dish.\")\n",
    "        \n",
    "        \n",
    "Mychef = Chef()\n",
    "Mychef.make_chicken()\n",
    "Mychef.make_salad()"
   ]
  },
  {
   "cell_type": "code",
   "execution_count": 37,
   "id": "ae18f5e2",
   "metadata": {},
   "outputs": [
    {
     "name": "stdout",
     "output_type": "stream",
     "text": [
      "The chef makes chicken.\n",
      "The chef makes rice.\n"
     ]
    }
   ],
   "source": [
    "# New Chines chef can do all of the things a chef can do, and he has some pluses\n",
    "\n",
    "class Chines_chef(Chef):\n",
    "    def make_rice(self):\n",
    "        print(\"The chef makes rice.\")\n",
    "        \n",
    "Mychineschef = Chines_chef()\n",
    "\n",
    "Mychineschef.make_chicken()\n",
    "Mychineschef.make_rice()"
   ]
  },
  {
   "cell_type": "code",
   "execution_count": null,
   "id": "5116c4a6",
   "metadata": {},
   "outputs": [],
   "source": []
  }
 ],
 "metadata": {
  "kernelspec": {
   "display_name": "Python 3 (ipykernel)",
   "language": "python",
   "name": "python3"
  },
  "language_info": {
   "codemirror_mode": {
    "name": "ipython",
    "version": 3
   },
   "file_extension": ".py",
   "mimetype": "text/x-python",
   "name": "python",
   "nbconvert_exporter": "python",
   "pygments_lexer": "ipython3",
   "version": "3.9.13"
  }
 },
 "nbformat": 4,
 "nbformat_minor": 5
}
